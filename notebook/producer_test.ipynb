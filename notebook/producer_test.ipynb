{
 "cells": [
  {
   "cell_type": "code",
   "execution_count": 1,
   "id": "ba29c782-a78c-49aa-8ed1-02938b440f21",
   "metadata": {},
   "outputs": [],
   "source": [
    "from time import sleep\n",
    "from json import dumps\n",
    "from kafka import KafkaProducer\n",
    "import json"
   ]
  },
  {
   "cell_type": "code",
   "execution_count": 2,
   "id": "b4e909ad-f469-4149-a39f-9294bff8575b",
   "metadata": {},
   "outputs": [],
   "source": [
    "producer = KafkaProducer(bootstrap_servers=[\"b-1.demo-cluster-1.9q7lp7.c1.kafka.eu-west-1.amazonaws.com:9092\",\n",
    "    \"b-2.demo-cluster-1.9q7lp7.c1.kafka.eu-west-1.amazonaws.com:9092\"],api_version = (0,10,1))"
   ]
  },
  {
   "cell_type": "code",
   "execution_count": 3,
   "id": "892a7e1d-8048-46ab-9d3c-c68f0f1339aa",
   "metadata": {
    "tags": []
   },
   "outputs": [
    {
     "name": "stdout",
     "output_type": "stream",
     "text": [
      "Iteration 0\n",
      "Iteration 1\n",
      "Iteration 2\n",
      "Iteration 3\n",
      "Iteration 4\n",
      "Iteration 5\n",
      "Iteration 6\n",
      "Iteration 7\n",
      "Iteration 8\n",
      "Iteration 9\n"
     ]
    }
   ],
   "source": [
    "for j in range(10):\n",
    "        print ('Iteration',j)\n",
    "        data={'counter':j}\n",
    "        producer.send('new_topic',json.dumps(data).encode('utf-8'))\n",
    "        sleep(0.5)"
   ]
  },
  {
   "cell_type": "code",
   "execution_count": null,
   "id": "2f9dd48d-950f-41aa-9939-6529d39957f4",
   "metadata": {
    "tags": []
   },
   "outputs": [],
   "source": [
    "def download(url,path):\n",
    "    response=requests.get(url)\n",
    "    with open (path,'wb') as file:\n",
    "        file.write(response.content)\n",
    "        \n",
    "        \n",
    "def transcribe(path):\n",
    "    r=sr.Recognizer()\n",
    "    with sr.AudioFile(path) as source:\n",
    "        audio_text=r.record(source)\n",
    "        \n",
    "        text=r.recognize_google(audio_text)\n",
    "        print('Converting audio transcripts into text...')\n",
    "        return text        "
   ]
  },
  {
   "cell_type": "code",
   "execution_count": null,
   "id": "312b227c-24f7-46ee-b784-68464e66f35d",
   "metadata": {},
   "outputs": [],
   "source": []
  }
 ],
 "metadata": {
  "kernelspec": {
   "display_name": "Python 3 (ipykernel)",
   "language": "python",
   "name": "python3"
  },
  "language_info": {
   "codemirror_mode": {
    "name": "ipython",
    "version": 3
   },
   "file_extension": ".py",
   "mimetype": "text/x-python",
   "name": "python",
   "nbconvert_exporter": "python",
   "pygments_lexer": "ipython3",
   "version": "3.9.5"
  }
 },
 "nbformat": 4,
 "nbformat_minor": 5
}
