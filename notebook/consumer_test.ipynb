{
 "cells": [
  {
   "cell_type": "code",
   "execution_count": 1,
   "id": "0f84571e-3fde-45e5-91f9-ccdd2a08c039",
   "metadata": {},
   "outputs": [],
   "source": [
    "from time import sleep\n",
    "from json import dumps\n",
    "from kafka import KafkaConsumer\n",
    "from json import loads"
   ]
  },
  {
   "cell_type": "code",
   "execution_count": 2,
   "id": "35cadf17-94d5-4bc3-a93e-c2cea8fbaf90",
   "metadata": {},
   "outputs": [],
   "source": [
    "consumer = KafkaConsumer('new_topic',\n",
    "                             client_id='d_id',\n",
    "                             bootstrap_servers=['b-1.demo-cluster-1.9q7lp7.c1.kafka.eu-west-1.amazonaws.com:9092'],\n",
    "                             auto_offset_reset='earliest',\n",
    "                             enable_auto_commit=False)"
   ]
  },
  {
   "cell_type": "code",
   "execution_count": null,
   "id": "cb21def7-3688-4eff-ad2d-7bcb892d573f",
   "metadata": {},
   "outputs": [
    {
     "name": "stdout",
     "output_type": "stream",
     "text": [
      "b'{\"counter\": 0}'\n",
      "b'{\"counter\": 1}'\n",
      "b'{\"counter\": 2}'\n",
      "b'{\"counter\": 3}'\n",
      "b'{\"counter\": 4}'\n",
      "b'{\"counter\": 5}'\n",
      "b'{\"counter\": 6}'\n",
      "b'{\"counter\": 7}'\n",
      "b'{\"counter\": 8}'\n",
      "b'{\"counter\": 9}'\n"
     ]
    }
   ],
   "source": [
    "for event in consumer:\n",
    "    event_data = event.value\n",
    "    # Do whatever you want\n",
    "    print(event_data)\n",
    "    sleep(2)"
   ]
  },
  {
   "cell_type": "code",
   "execution_count": null,
   "id": "b9a50e6c-749b-4956-b7f5-698c6e824499",
   "metadata": {},
   "outputs": [],
   "source": []
  }
 ],
 "metadata": {
  "kernelspec": {
   "display_name": "Python 3 (ipykernel)",
   "language": "python",
   "name": "python3"
  },
  "language_info": {
   "codemirror_mode": {
    "name": "ipython",
    "version": 3
   },
   "file_extension": ".py",
   "mimetype": "text/x-python",
   "name": "python",
   "nbconvert_exporter": "python",
   "pygments_lexer": "ipython3",
   "version": "3.9.5"
  }
 },
 "nbformat": 4,
 "nbformat_minor": 5
}
