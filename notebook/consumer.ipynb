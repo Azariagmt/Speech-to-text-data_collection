{
 "cells": [
  {
   "cell_type": "code",
   "execution_count": 1,
   "id": "01c9a878-e99f-463e-abe6-bb92672cc952",
   "metadata": {},
   "outputs": [],
   "source": [
    "from kafka import KafkaConsumer"
   ]
  },
  {
   "cell_type": "code",
   "execution_count": 2,
   "id": "3540d05b-1fb6-4d93-bb38-2deea02ed05d",
   "metadata": {},
   "outputs": [],
   "source": [
    "consumer = KafkaConsumer('morawetz_text_topic',\n",
    "                             client_id='d_id',\n",
    "                             bootstrap_servers=[\"b-1.demo-cluster-1.9q7lp7.c1.kafka.eu-west-1.amazonaws.com:9092\",\n",
    "    \"b-2.demo-cluster-1.9q7lp7.c1.kafka.eu-west-1.amazonaws.com:9092\"],\n",
    "                             auto_offset_reset='earliest',\n",
    "                             enable_auto_commit=False,)"
   ]
  },
  {
   "cell_type": "code",
   "execution_count": 3,
   "id": "aac39775-319c-41ed-b440-7b6d7601b03a",
   "metadata": {},
   "outputs": [
    {
     "name": "stdout",
     "output_type": "stream",
     "text": [
      "{TopicPartition(topic='morawetz_text_topic', partition=0): [ConsumerRecord(topic='morawetz_text_topic', partition=0, offset=0, timestamp=1631451134352, timestamp_type=0, key=None, value=b'\"\\xe1\\x8a\\xa0\\xe1\\x8c\\x88\\xe1\\x88\\xab\\xe1\\x89\\xbd\\xe1\\x8a\\x95 \\xe1\\x8a\\xa8\\xe1\\x8a\\xa0\\xe1\\x8d\\x8d\\xe1\\x88\\xaa\\xe1\\x8a\\xab\\xe1\\x88\\x9d \\xe1\\x88\\x86\\xe1\\x8a\\x90 \\xe1\\x8a\\xa8\\xe1\\x88\\x8c\\xe1\\x88\\x8e\\xe1\\x89\\xbd \\xe1\\x8b\\xa8\\xe1\\x8a\\xa0\\xe1\\x88\\x88\\xe1\\x88\\x9d \\xe1\\x8a\\xa0\\xe1\\x8c\\x88\\xe1\\x88\\xab\\xe1\\x89\\xb5 \\xe1\\x8c\\x8b\\xe1\\x88\\xad \\xe1\\x8b\\xab\\xe1\\x88\\x8b\\xe1\\x89\\xb5\\xe1\\x8a\\x95 \\xe1\\x8a\\xa0\\xe1\\x88\\x88\\xe1\\x88\\x9d \\xe1\\x8a\\xa0\\xe1\\x89\\x80\\xe1\\x8d\\x8b\\xe1\\x8b\\x8a \\xe1\\x8c\\x8d\\xe1\\x8a\\x95\\xe1\\x8a\\x99\\xe1\\x8a\\x90\\xe1\\x89\\xb5 \\xe1\\x8b\\x88\\xe1\\x8b\\xb0 \\xe1\\x88\\x8b\\xe1\\x89\\x80 \\xe1\\x8b\\xb0\\xe1\\x88\\xa8\\xe1\\x8c\\x83 \\xe1\\x8b\\xab\\xe1\\x88\\xb8\\xe1\\x8c\\x8b\\xe1\\x8c\\x88\\xe1\\x88\\xa8 \\xe1\\x88\\x86\\xe1\\x8a\\x97\\xe1\\x88\\x8d \\xe1\\x89\\xa0\\xe1\\x8a\\xa0\\xe1\\x8c\\x88\\xe1\\x88\\xad \\xe1\\x8b\\x8d\\xe1\\x88\\xb5\\xe1\\x8c\\xa5 \\xe1\\x8a\\xa0\\xe1\\x88\\xab\\xe1\\x89\\xb5 \\xe1\\x8a\\xa0\\xe1\\x88\\x88\\xe1\\x88\\x9d\"', headers=[], checksum=None, serialized_key_size=-1, serialized_value_size=234, serialized_header_size=-1)]}\n"
     ]
    }
   ],
   "source": [
    "last_msg = consumer.poll(timeout_ms=100,max_records=1)\n",
    "print(last_msg)\n",
    "    "
   ]
  },
  {
   "cell_type": "code",
   "execution_count": 5,
   "id": "6e71b68c-90d8-426b-b79a-ee8129d7f3dd",
   "metadata": {},
   "outputs": [
    {
     "name": "stdout",
     "output_type": "stream",
     "text": [
      "b'\"\\xe1\\x8a\\xa0\\xe1\\x8c\\x88\\xe1\\x88\\xab\\xe1\\x89\\xbd\\xe1\\x8a\\x95 \\xe1\\x8a\\xa8\\xe1\\x8a\\xa0\\xe1\\x8d\\x8d\\xe1\\x88\\xaa\\xe1\\x8a\\xab\\xe1\\x88\\x9d \\xe1\\x88\\x86\\xe1\\x8a\\x90 \\xe1\\x8a\\xa8\\xe1\\x88\\x8c\\xe1\\x88\\x8e\\xe1\\x89\\xbd \\xe1\\x8b\\xa8\\xe1\\x8a\\xa0\\xe1\\x88\\x88\\xe1\\x88\\x9d \\xe1\\x8a\\xa0\\xe1\\x8c\\x88\\xe1\\x88\\xab\\xe1\\x89\\xb5 \\xe1\\x8c\\x8b\\xe1\\x88\\xad \\xe1\\x8b\\xab\\xe1\\x88\\x8b\\xe1\\x89\\xb5\\xe1\\x8a\\x95 \\xe1\\x8a\\xa0\\xe1\\x88\\x88\\xe1\\x88\\x9d \\xe1\\x8a\\xa0\\xe1\\x89\\x80\\xe1\\x8d\\x8b\\xe1\\x8b\\x8a \\xe1\\x8c\\x8d\\xe1\\x8a\\x95\\xe1\\x8a\\x99\\xe1\\x8a\\x90\\xe1\\x89\\xb5 \\xe1\\x8b\\x88\\xe1\\x8b\\xb0 \\xe1\\x88\\x8b\\xe1\\x89\\x80 \\xe1\\x8b\\xb0\\xe1\\x88\\xa8\\xe1\\x8c\\x83 \\xe1\\x8b\\xab\\xe1\\x88\\xb8\\xe1\\x8c\\x8b\\xe1\\x8c\\x88\\xe1\\x88\\xa8 \\xe1\\x88\\x86\\xe1\\x8a\\x97\\xe1\\x88\\x8d \\xe1\\x89\\xa0\\xe1\\x8a\\xa0\\xe1\\x8c\\x88\\xe1\\x88\\xad \\xe1\\x8b\\x8d\\xe1\\x88\\xb5\\xe1\\x8c\\xa5 \\xe1\\x8a\\xa0\\xe1\\x88\\xab\\xe1\\x89\\xb5 \\xe1\\x8a\\xa0\\xe1\\x88\\x88\\xe1\\x88\\x9d\"'\n",
      "\"አገራችን ከአፍሪካም ሆነ ከሌሎች የአለም አገራት ጋር ያላትን አለም አቀፋዊ ግንኙነት ወደ ላቀ ደረጃ ያሸጋገረ ሆኗል በአገር ውስጥ አራት አለም\"\n"
     ]
    }
   ],
   "source": [
    "conv = list(last_msg.values())[0][0].value\n",
    "print(conv)\n",
    "conv.decode()\n",
    "# str_conv = str(conv)\n",
    "\n",
    "print(conv.decode())"
   ]
  }
 ],
 "metadata": {
  "kernelspec": {
   "display_name": "Python 3 (ipykernel)",
   "language": "python",
   "name": "python3"
  },
  "language_info": {
   "codemirror_mode": {
    "name": "ipython",
    "version": 3
   },
   "file_extension": ".py",
   "mimetype": "text/x-python",
   "name": "python",
   "nbconvert_exporter": "python",
   "pygments_lexer": "ipython3",
   "version": "3.9.5"
  }
 },
 "nbformat": 4,
 "nbformat_minor": 5
}
