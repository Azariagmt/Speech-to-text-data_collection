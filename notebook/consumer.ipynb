{
 "cells": [
  {
   "cell_type": "code",
   "execution_count": 1,
   "id": "01c9a878-e99f-463e-abe6-bb92672cc952",
   "metadata": {},
   "outputs": [],
   "source": [
    "from kafka import KafkaConsumer"
   ]
  },
  {
   "cell_type": "code",
   "execution_count": 2,
   "id": "3540d05b-1fb6-4d93-bb38-2deea02ed05d",
   "metadata": {},
   "outputs": [],
   "source": [
    "consumer = KafkaConsumer('group6_test',\n",
    "                             client_id='d_id',\n",
    "                             bootstrap_servers=[\"b-1.demo-cluster-1.9q7lp7.c1.kafka.eu-west-1.amazonaws.com:9092\",\n",
    "    \"b-2.demo-cluster-1.9q7lp7.c1.kafka.eu-west-1.amazonaws.com:9092\"],\n",
    "                             auto_offset_reset='earliest',\n",
    "                             enable_auto_commit=False)"
   ]
  },
  {
   "cell_type": "code",
   "execution_count": null,
   "id": "aac39775-319c-41ed-b440-7b6d7601b03a",
   "metadata": {},
   "outputs": [],
   "source": [
    "for event in consumer:\n",
    "    #event_data = event.value\n",
    "    print(event)\n",
    "    \n",
    "    "
   ]
  },
  {
   "cell_type": "code",
   "execution_count": null,
   "id": "6e71b68c-90d8-426b-b79a-ee8129d7f3dd",
   "metadata": {},
   "outputs": [],
   "source": []
  },
  {
   "cell_type": "code",
   "execution_count": null,
   "id": "0b8e2ad8-3994-45ef-8dbb-101de998fe70",
   "metadata": {},
   "outputs": [],
   "source": []
  },
  {
   "cell_type": "code",
   "execution_count": null,
   "id": "5afaf90c-644c-4f7c-82d6-c3506119412b",
   "metadata": {},
   "outputs": [],
   "source": []
  }
 ],
 "metadata": {
  "kernelspec": {
   "display_name": "Python 3 (ipykernel)",
   "language": "python",
   "name": "python3"
  },
  "language_info": {
   "codemirror_mode": {
    "name": "ipython",
    "version": 3
   },
   "file_extension": ".py",
   "mimetype": "text/x-python",
   "name": "python",
   "nbconvert_exporter": "python",
   "pygments_lexer": "ipython3",
   "version": "3.9.5"
  }
 },
 "nbformat": 4,
 "nbformat_minor": 5
}
