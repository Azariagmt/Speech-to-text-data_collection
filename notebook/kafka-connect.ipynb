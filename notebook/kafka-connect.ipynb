{
 "cells": [
  {
   "cell_type": "code",
   "execution_count": 1,
   "id": "b3adcbde-bd72-4fec-8000-82e6bb5884dd",
   "metadata": {},
   "outputs": [],
   "source": [
    "import kafka\n",
    "from kafka.admin import KafkaAdminClient,NewTopic\n"
   ]
  },
  {
   "cell_type": "code",
   "execution_count": 2,
   "id": "31bcb684-ad32-40b5-b0e2-40c153dfb12d",
   "metadata": {},
   "outputs": [],
   "source": [
    "\n",
    "admin_client = KafkaAdminClient(bootstrap_servers=[\"b-1.demo-cluster-1.9q7lp7.c1.kafka.eu-west-1.amazonaws.com:9092\",\n",
    "    \"b-2.demo-cluster-1.9q7lp7.c1.kafka.eu-west-1.amazonaws.com:9092\"],\n",
    "client_id='d_id')\n",
    "\n"
   ]
  },
  {
   "cell_type": "code",
   "execution_count": null,
   "id": "4fd2b62d-3291-476c-8c0d-846cccec5fdf",
   "metadata": {},
   "outputs": [],
   "source": [
    "\n",
    "topic_list = []\n",
    "topic_list.append(NewTopic(name=\"dorothy_topic\", num_partitions=1, replication_factor=2))\n",
    "admin_client.create_topics(new_topics=topic_list, validate_only=False)\n"
   ]
  },
  {
   "cell_type": "code",
   "execution_count": 3,
   "id": "e775ac4e-90f9-4974-b6b6-2c8c711577ee",
   "metadata": {
    "collapsed": true,
    "jupyter": {
     "outputs_hidden": true
    },
    "tags": []
   },
   "outputs": [
    {
     "data": {
      "text/plain": [
       "['rac_topic',\n",
       " 'json-topic',\n",
       " 'haftom_topic',\n",
       " 'pizza_topic',\n",
       " 'hu_text_topic',\n",
       " 'Reiten-Text-Corpus',\n",
       " 'rachel_topic',\n",
       " 'papa_topic',\n",
       " 'tests_topics',\n",
       " 'test',\n",
       " 'group4_test',\n",
       " 'hu__text_topic',\n",
       " 'morawetz_text_topic',\n",
       " 'fumbani_topic',\n",
       " 'news_test_topic',\n",
       " 'test_g6_topic',\n",
       " 'Benkart_Text_Topic',\n",
       " 'kate_topic',\n",
       " '__amazon_msk_canary_state',\n",
       " 'dorothy_topic',\n",
       " 'new_test_topic',\n",
       " 'audio-topic',\n",
       " '__consumer_offsets',\n",
       " 'text-topic',\n",
       " 'Benkart_Clean_Audio_Topic',\n",
       " '__amazon_msk_canary',\n",
       " 'msgpack-topic',\n",
       " 'group_name_Clean_Audio_Topic',\n",
       " 'example_topic_group2',\n",
       " 'Benkart_Raw_Audio_Topic',\n",
       " 'fu_topic',\n",
       " 'jakinda_topic',\n",
       " 'tutorsAWSKafka',\n",
       " 'morawetz_audio_topic',\n",
       " 'Reiten-Text-Audio-Input',\n",
       " 'test_topic',\n",
       " 'reiten_topic',\n",
       " 'groupHu_speech',\n",
       " 'groupHu_test',\n",
       " 'saba_topic',\n",
       " 'new_topic',\n",
       " 'group_name_Raw_Audio_Topic',\n",
       " 'group_name_Text_Topic']"
      ]
     },
     "execution_count": 3,
     "metadata": {},
     "output_type": "execute_result"
    }
   ],
   "source": [
    "admin_client.list_topics()"
   ]
  },
  {
   "cell_type": "code",
   "execution_count": null,
   "id": "a81678a6-1381-4513-9c5f-c2e126dc054d",
   "metadata": {},
   "outputs": [],
   "source": []
  }
 ],
 "metadata": {
  "kernelspec": {
   "display_name": "Python 3 (ipykernel)",
   "language": "python",
   "name": "python3"
  },
  "language_info": {
   "codemirror_mode": {
    "name": "ipython",
    "version": 3
   },
   "file_extension": ".py",
   "mimetype": "text/x-python",
   "name": "python",
   "nbconvert_exporter": "python",
   "pygments_lexer": "ipython3",
   "version": "3.9.5"
  }
 },
 "nbformat": 4,
 "nbformat_minor": 5
}
